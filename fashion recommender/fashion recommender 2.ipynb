{
 "cells": [
  {
   "cell_type": "code",
   "execution_count": 1,
   "id": "27868829",
   "metadata": {},
   "outputs": [],
   "source": [
    "import pickle\n",
    "import numpy as np\n",
    "features_list=np.array(pickle.load(open('embedding.pkl','rb')))\n",
    "file_names=pickle.load(open('filenames.pkl','rb'))\n",
    "import tensorflow\n",
    "from tensorflow.keras.preprocessing import image\n",
    "from tensorflow.keras.layers import GlobalMaxPooling2D\n",
    "from tensorflow.keras.applications.resnet50 import ResNet50,preprocess_input\n",
    "from numpy.linalg import norm\n",
    "import numpy as np\n",
    "import matplotlib as plt"
   ]
  },
  {
   "cell_type": "code",
   "execution_count": 2,
   "id": "482b59fe",
   "metadata": {},
   "outputs": [],
   "source": [
    "model=ResNet50(weights=\"imagenet\",include_top=False,input_shape=(224,224,3))\n",
    "model.trainable=False\n",
    "model=tensorflow.keras.Sequential([model,GlobalMaxPooling2D()])"
   ]
  },
  {
   "cell_type": "code",
   "execution_count": 3,
   "id": "e531ba95",
   "metadata": {},
   "outputs": [
    {
     "name": "stdout",
     "output_type": "stream",
     "text": [
      "[0.00940838 0.05376235 0.0058136  ... 0.01908367 0.03705109 0.01656622]\n"
     ]
    }
   ],
   "source": [
    "img=image.load_img(\"C:\\\\Users\\\\hp\\\\Downloads\\\\images\\\\1540.jpg\",target_size=(224,224))\n",
    "img_arr=image.img_to_array(img)\n",
    "expand_img_arr= np.expand_dims(img_arr,axis=0)\n",
    "preprocessed_img=preprocess_input(expand_img_arr)\n",
    "result=model.predict(preprocessed_img).flatten()\n",
    "normalized_result=result/norm(result)\n",
    "    \n",
    "print(normalized_result)"
   ]
  },
  {
   "cell_type": "code",
   "execution_count": 4,
   "id": "c6bedd50",
   "metadata": {},
   "outputs": [
    {
     "data": {
      "text/plain": [
       "array([[0.        , 0.01761616, 0.00171594, ..., 0.01247232, 0.02726384,\n",
       "        0.06899207],\n",
       "       [0.        , 0.03648943, 0.        , ..., 0.00997928, 0.02375534,\n",
       "        0.04649908],\n",
       "       [0.        , 0.03507707, 0.00732284, ..., 0.00283519, 0.        ,\n",
       "        0.05435891],\n",
       "       ...,\n",
       "       [0.        , 0.05594851, 0.00553631, ..., 0.00670328, 0.01752765,\n",
       "        0.00746652],\n",
       "       [0.        , 0.02520914, 0.00274131, ..., 0.00833132, 0.01841293,\n",
       "        0.0042276 ],\n",
       "       [0.        , 0.03215053, 0.00704543, ..., 0.00988327, 0.02218141,\n",
       "        0.00713839]], dtype=float32)"
      ]
     },
     "execution_count": 4,
     "metadata": {},
     "output_type": "execute_result"
    }
   ],
   "source": [
    "features_list"
   ]
  },
  {
   "cell_type": "code",
   "execution_count": 5,
   "id": "f3fa61e3",
   "metadata": {},
   "outputs": [
    {
     "data": {
      "text/plain": [
       "NearestNeighbors(algorithm='brute', metric='euclidean')"
      ]
     },
     "execution_count": 5,
     "metadata": {},
     "output_type": "execute_result"
    }
   ],
   "source": [
    "\n",
    "from sklearn.neighbors import NearestNeighbors\n",
    "neigh = NearestNeighbors(n_neighbors=5,algorithm='brute',metric='euclidean')\n",
    "neigh.fit(features_list)"
   ]
  },
  {
   "cell_type": "code",
   "execution_count": 6,
   "id": "13784c10",
   "metadata": {},
   "outputs": [],
   "source": [
    "distance,indices=neigh.kneighbors([normalized_result])"
   ]
  },
  {
   "cell_type": "code",
   "execution_count": 7,
   "id": "054de606",
   "metadata": {},
   "outputs": [
    {
     "data": {
      "text/plain": [
       "array([ 4557,  4522,  8889,  9088, 10378], dtype=int64)"
      ]
     },
     "execution_count": 7,
     "metadata": {},
     "output_type": "execute_result"
    }
   ],
   "source": [
    "indices[0]"
   ]
  },
  {
   "cell_type": "code",
   "execution_count": 8,
   "id": "882babc3",
   "metadata": {},
   "outputs": [],
   "source": [
    "import cv2\n",
    "for file in indices[0][1:6]:\n",
    "    temp_img=cv2.imread(file_names[file])\n",
    "    cv2.imshow('output',temp_img)\n",
    "    cv2.waitKey(0)"
   ]
  },
  {
   "cell_type": "code",
   "execution_count": 9,
   "id": "821aed8b",
   "metadata": {},
   "outputs": [
    {
     "data": {
      "text/plain": [
       "4557"
      ]
     },
     "execution_count": 9,
     "metadata": {},
     "output_type": "execute_result"
    }
   ],
   "source": [
    "indices[0][0]"
   ]
  },
  {
   "cell_type": "code",
   "execution_count": null,
   "id": "0116e2da",
   "metadata": {},
   "outputs": [],
   "source": []
  }
 ],
 "metadata": {
  "kernelspec": {
   "display_name": "Python 3",
   "language": "python",
   "name": "python3"
  },
  "language_info": {
   "codemirror_mode": {
    "name": "ipython",
    "version": 3
   },
   "file_extension": ".py",
   "mimetype": "text/x-python",
   "name": "python",
   "nbconvert_exporter": "python",
   "pygments_lexer": "ipython3",
   "version": "3.8.8"
  }
 },
 "nbformat": 4,
 "nbformat_minor": 5
}
