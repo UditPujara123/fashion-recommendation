{
 "cells": [
  {
   "cell_type": "code",
   "execution_count": 1,
   "id": "1cdc3095",
   "metadata": {},
   "outputs": [],
   "source": [
    "import tensorflow\n",
    "from tensorflow.keras.preprocessing import image\n",
    "from tensorflow.keras.layers import GlobalMaxPooling2D\n",
    "from tensorflow.keras.applications.resnet50 import ResNet50,preprocess_input\n",
    "from numpy.linalg import norm\n",
    "import numpy as np\n",
    "import pickle\n",
    "\n",
    "from tqdm import tqdm"
   ]
  },
  {
   "cell_type": "code",
   "execution_count": 2,
   "id": "a9b1ff31",
   "metadata": {},
   "outputs": [
    {
     "data": {
      "text/plain": [
       "<bound method Model.summary of <keras.engine.sequential.Sequential object at 0x000002346FBBE4C0>>"
      ]
     },
     "execution_count": 2,
     "metadata": {},
     "output_type": "execute_result"
    }
   ],
   "source": [
    "model=ResNet50(weights=\"imagenet\",include_top=False,input_shape=(224,224,3))\n",
    "model.trainable=False\n",
    "model=tensorflow.keras.Sequential([model,GlobalMaxPooling2D()])\n",
    "model.summary"
   ]
  },
  {
   "cell_type": "code",
   "execution_count": 3,
   "id": "120b6f4f",
   "metadata": {},
   "outputs": [
    {
     "name": "stdout",
     "output_type": "stream",
     "text": [
      "Model: \"sequential\"\n",
      "_________________________________________________________________\n",
      " Layer (type)                Output Shape              Param #   \n",
      "=================================================================\n",
      " resnet50 (Functional)       (None, 7, 7, 2048)        23587712  \n",
      "                                                                 \n",
      " global_max_pooling2d (Globa  (None, 2048)             0         \n",
      " lMaxPooling2D)                                                  \n",
      "                                                                 \n",
      "=================================================================\n",
      "Total params: 23,587,712\n",
      "Trainable params: 0\n",
      "Non-trainable params: 23,587,712\n",
      "_________________________________________________________________\n"
     ]
    }
   ],
   "source": [
    "model.summary()"
   ]
  },
  {
   "cell_type": "code",
   "execution_count": 4,
   "id": "4f003220",
   "metadata": {},
   "outputs": [],
   "source": [
    "def extract_features(img_path,model):\n",
    "    img=image.load_img(img_path,target_size=(224,224))\n",
    "    img_arr=image.img_to_array(img)\n",
    "    expand_img_arr= np.expand_dims(img_arr,axis=0)\n",
    "    preprocessed_img=preprocess_input(expand_img_arr)\n",
    "    result=model.predict(preprocessed_img).flatten()\n",
    "    normalized_result=result/norm(result)\n",
    "    \n",
    "    return normalized_result"
   ]
  },
  {
   "cell_type": "code",
   "execution_count": 5,
   "id": "9c046d04",
   "metadata": {},
   "outputs": [],
   "source": [
    "import os"
   ]
  },
  {
   "cell_type": "code",
   "execution_count": 6,
   "id": "577f9549",
   "metadata": {},
   "outputs": [
    {
     "name": "stdout",
     "output_type": "stream",
     "text": [
      "44441\n",
      "['C:\\\\Users\\\\hp\\\\Downloads\\\\images\\\\10000.jpg', 'C:\\\\Users\\\\hp\\\\Downloads\\\\images\\\\10001.jpg', 'C:\\\\Users\\\\hp\\\\Downloads\\\\images\\\\10002.jpg', 'C:\\\\Users\\\\hp\\\\Downloads\\\\images\\\\10003.jpg', 'C:\\\\Users\\\\hp\\\\Downloads\\\\images\\\\10004.jpg']\n"
     ]
    }
   ],
   "source": [
    "filenames=[]\n",
    "for file in os.listdir(\"C:\\\\Users\\\\hp\\\\Downloads\\\\images\"):\n",
    "   filenames.append(os.path.join(\"C:\\\\Users\\\\hp\\\\Downloads\\\\images\",file))\n",
    "print(len(filenames))\n",
    "print(filenames[0:5])"
   ]
  },
  {
   "cell_type": "code",
   "execution_count": 7,
   "id": "9365b011",
   "metadata": {},
   "outputs": [
    {
     "name": "stderr",
     "output_type": "stream",
     "text": [
      "100%|██████████████████████████████████████████████████████████████████████████| 44441/44441 [2:38:51<00:00,  4.66it/s]\n"
     ]
    },
    {
     "name": "stdout",
     "output_type": "stream",
     "text": [
      "[[0.         0.01761616 0.00171594 ... 0.01247232 0.02726384 0.06899207]\n",
      " [0.         0.03648943 0.         ... 0.00997928 0.02375534 0.04649908]\n",
      " [0.         0.03507707 0.00732284 ... 0.00283519 0.         0.05435891]\n",
      " ...\n",
      " [0.         0.05594851 0.00553631 ... 0.00670328 0.01752765 0.00746652]\n",
      " [0.         0.02520914 0.00274131 ... 0.00833132 0.01841293 0.0042276 ]\n",
      " [0.         0.03215053 0.00704543 ... 0.00988327 0.02218141 0.00713839]]\n"
     ]
    }
   ],
   "source": [
    "feature_list=[]\n",
    "for file in tqdm(filenames):\n",
    "    feature_list.append(extract_features(file,model))\n",
    "print(np.array(feature_list))\n"
   ]
  },
  {
   "cell_type": "code",
   "execution_count": 8,
   "id": "fa610072",
   "metadata": {},
   "outputs": [
    {
     "name": "stdout",
     "output_type": "stream",
     "text": [
      "[[0.         0.01761616 0.00171594 ... 0.01247232 0.02726384 0.06899207]\n",
      " [0.         0.03648943 0.         ... 0.00997928 0.02375534 0.04649908]\n",
      " [0.         0.03507707 0.00732284 ... 0.00283519 0.         0.05435891]\n",
      " ...\n",
      " [0.         0.05594851 0.00553631 ... 0.00670328 0.01752765 0.00746652]\n",
      " [0.         0.02520914 0.00274131 ... 0.00833132 0.01841293 0.0042276 ]\n",
      " [0.         0.03215053 0.00704543 ... 0.00988327 0.02218141 0.00713839]]\n"
     ]
    }
   ],
   "source": [
    "print(np.array(feature_list))"
   ]
  },
  {
   "cell_type": "code",
   "execution_count": 9,
   "id": "0a87adb6",
   "metadata": {},
   "outputs": [
    {
     "name": "stderr",
     "output_type": "stream",
     "text": [
      "IOPub data rate exceeded.\n",
      "The notebook server will temporarily stop sending output\n",
      "to the client in order to avoid crashing it.\n",
      "To change this limit, set the config variable\n",
      "`--NotebookApp.iopub_data_rate_limit`.\n",
      "\n",
      "Current values:\n",
      "NotebookApp.iopub_data_rate_limit=1000000.0 (bytes/sec)\n",
      "NotebookApp.rate_limit_window=3.0 (secs)\n",
      "\n"
     ]
    }
   ],
   "source": [
    "print(feature_list)"
   ]
  },
  {
   "cell_type": "code",
   "execution_count": 10,
   "id": "cb3f16c2",
   "metadata": {},
   "outputs": [],
   "source": [
    "pickle.dump(feature_list,open('embedding.pkl','wb'))\n",
    "pickle.dump(filenames,open('filenames.pkl','wb'))"
   ]
  },
  {
   "cell_type": "code",
   "execution_count": null,
   "id": "c5f93b36",
   "metadata": {},
   "outputs": [],
   "source": []
  },
  {
   "cell_type": "code",
   "execution_count": null,
   "id": "e910750c",
   "metadata": {},
   "outputs": [],
   "source": []
  },
  {
   "cell_type": "code",
   "execution_count": null,
   "id": "a01a0fb1",
   "metadata": {},
   "outputs": [],
   "source": []
  }
 ],
 "metadata": {
  "kernelspec": {
   "display_name": "Python 3",
   "language": "python",
   "name": "python3"
  },
  "language_info": {
   "codemirror_mode": {
    "name": "ipython",
    "version": 3
   },
   "file_extension": ".py",
   "mimetype": "text/x-python",
   "name": "python",
   "nbconvert_exporter": "python",
   "pygments_lexer": "ipython3",
   "version": "3.8.8"
  }
 },
 "nbformat": 4,
 "nbformat_minor": 5
}
